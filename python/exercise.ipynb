{
 "cells": [
  {
   "cell_type": "code",
   "execution_count": null,
   "id": "initial_id",
   "metadata": {
    "collapsed": true
   },
   "outputs": [],
   "source": ""
  },
  {
   "metadata": {},
   "cell_type": "markdown",
   "source": "",
   "id": "25a3feaf1f1210c7"
  },
  {
   "metadata": {},
   "cell_type": "markdown",
   "source": "",
   "id": "b1606dfb663663ed"
  },
  {
   "metadata": {},
   "cell_type": "markdown",
   "source": "",
   "id": "99dff75494ad09c4"
  },
  {
   "metadata": {},
   "cell_type": "markdown",
   "source": "",
   "id": "19491d13d576eabf"
  }
 ],
 "metadata": {
  "kernelspec": {
   "display_name": "Python 3",
   "language": "python",
   "name": "python3"
  },
  "language_info": {
   "codemirror_mode": {
    "name": "ipython",
    "version": 2
   },
   "file_extension": ".py",
   "mimetype": "text/x-python",
   "name": "python",
   "nbconvert_exporter": "python",
   "pygments_lexer": "ipython2",
   "version": "2.7.6"
  }
 },
 "nbformat": 4,
 "nbformat_minor": 5
}
